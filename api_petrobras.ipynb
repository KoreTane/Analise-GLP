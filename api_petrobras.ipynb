{
  "nbformat": 4,
  "nbformat_minor": 0,
  "metadata": {
    "colab": {
      "provenance": [],
      "authorship_tag": "ABX9TyOGjpZ9oPKPorMkeMMtDhO0",
      "include_colab_link": true
    },
    "kernelspec": {
      "name": "python3",
      "display_name": "Python 3"
    },
    "language_info": {
      "name": "python"
    }
  },
  "cells": [
    {
      "cell_type": "markdown",
      "metadata": {
        "id": "view-in-github",
        "colab_type": "text"
      },
      "source": [
        "<a href=\"https://colab.research.google.com/github/KoreTane/Analise-GLP/blob/main/api_petrobras.ipynb\" target=\"_parent\"><img src=\"https://colab.research.google.com/assets/colab-badge.svg\" alt=\"Open In Colab\"/></a>"
      ]
    },
    {
      "cell_type": "code",
      "source": [
        "#!pip install Flask requests beautifulsoup4 pyngrok\n",
        "\n",
        "from flask import Flask, jsonify\n",
        "import requests\n",
        "from bs4 import BeautifulSoup\n",
        "from threading import Thread\n",
        "from pyngrok import ngrok\n",
        "\n",
        "app = Flask(__name__)\n",
        "\n",
        "def extrair_dados():\n",
        "    url = \"https://precos.petrobras.com.br/seleção-de-estados-glp\"\n",
        "    response = requests.get(url)\n",
        "    soup = BeautifulSoup(response.content, 'html.parser')\n",
        "\n",
        "\n",
        "    dados = {}\n",
        "    estados = [\"SP\", \"RJ\", \"MG\"]\n",
        "    for estado in estados:\n",
        "\n",
        "        dados[estado] = {\n",
        "            \"Distribuição e Revenda\": \"valor_exemplo\",\n",
        "            \"ICMS\": \"valor_exemplo\",\n",
        "            \"Impostos Federais\": \"valor_exemplo\",\n",
        "            \"Parcela Petrobras\": \"valor_exemplo\"\n",
        "        }\n",
        "\n",
        "    return dados\n",
        "\n",
        "@app.route('/api/precos', methods=['GET'])\n",
        "def get_precos():\n",
        "    dados = extrair_dados()\n",
        "    return jsonify(dados)\n",
        "\n",
        "def run_app():\n",
        "    app.run(host='0.0.0.0', port=5000)\n",
        "\n",
        "# Inicia o servidor Flask em uma nova thread\n",
        "thread = Thread(target=run_app)\n",
        "thread.start()\n",
        "\n",
        "!ngrok authtoken 2lf1owGW7ntHguDwHjKN3yJPcGj_5Ut3ZbHZGKH6ieJN5witA\n",
        "public_url = ngrok.connect(5000)\n",
        "print(f\"Acesse a API em: {public_url}/api/precos\")"
      ],
      "metadata": {
        "colab": {
          "base_uri": "https://localhost:8080/"
        },
        "id": "5EApnayywhNf",
        "outputId": "02581091-aafe-475f-9be2-0568779fbf73"
      },
      "execution_count": null,
      "outputs": [
        {
          "output_type": "stream",
          "name": "stdout",
          "text": [
            "Requirement already satisfied: Flask in /usr/local/lib/python3.10/dist-packages (2.2.5)\n",
            "Requirement already satisfied: requests in /usr/local/lib/python3.10/dist-packages (2.32.3)\n",
            "Requirement already satisfied: beautifulsoup4 in /usr/local/lib/python3.10/dist-packages (4.12.3)\n",
            "Requirement already satisfied: pyngrok in /usr/local/lib/python3.10/dist-packages (7.2.0)\n",
            "Requirement already satisfied: Werkzeug>=2.2.2 in /usr/local/lib/python3.10/dist-packages (from Flask) (3.0.4)\n",
            "Requirement already satisfied: Jinja2>=3.0 in /usr/local/lib/python3.10/dist-packages (from Flask) (3.1.4)\n",
            "Requirement already satisfied: itsdangerous>=2.0 in /usr/local/lib/python3.10/dist-packages (from Flask) (2.2.0)\n",
            "Requirement already satisfied: click>=8.0 in /usr/local/lib/python3.10/dist-packages (from Flask) (8.1.7)\n",
            "Requirement already satisfied: charset-normalizer<4,>=2 in /usr/local/lib/python3.10/dist-packages (from requests) (3.4.0)\n",
            "Requirement already satisfied: idna<4,>=2.5 in /usr/local/lib/python3.10/dist-packages (from requests) (3.10)\n",
            "Requirement already satisfied: urllib3<3,>=1.21.1 in /usr/local/lib/python3.10/dist-packages (from requests) (2.2.3)\n",
            "Requirement already satisfied: certifi>=2017.4.17 in /usr/local/lib/python3.10/dist-packages (from requests) (2024.8.30)\n",
            "Requirement already satisfied: soupsieve>1.2 in /usr/local/lib/python3.10/dist-packages (from beautifulsoup4) (2.6)\n",
            "Requirement already satisfied: PyYAML>=5.1 in /usr/local/lib/python3.10/dist-packages (from pyngrok) (6.0.2)\n",
            "Requirement already satisfied: MarkupSafe>=2.0 in /usr/local/lib/python3.10/dist-packages (from Jinja2>=3.0->Flask) (3.0.1)\n",
            " * Serving Flask app '__main__'\n",
            " * Debug mode: off\n"
          ]
        },
        {
          "output_type": "stream",
          "name": "stderr",
          "text": [
            "INFO:werkzeug:\u001b[31m\u001b[1mWARNING: This is a development server. Do not use it in a production deployment. Use a production WSGI server instead.\u001b[0m\n",
            " * Running on all addresses (0.0.0.0)\n",
            " * Running on http://127.0.0.1:5000\n",
            " * Running on http://172.28.0.12:5000\n",
            "INFO:werkzeug:\u001b[33mPress CTRL+C to quit\u001b[0m\n"
          ]
        },
        {
          "output_type": "stream",
          "name": "stdout",
          "text": [
            "Authtoken saved to configuration file: /root/.config/ngrok/ngrok.yml\n",
            "Acesse a API em: NgrokTunnel: \"https://7aba-34-138-109-162.ngrok-free.app\" -> \"http://localhost:5000\"/api/precos\n"
          ]
        }
      ]
    }
  ]
}