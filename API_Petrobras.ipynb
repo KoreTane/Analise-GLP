{
  "nbformat": 4,
  "nbformat_minor": 0,
  "metadata": {
    "colab": {
      "provenance": [],
      "authorship_tag": "ABX9TyMX6sOx0aKm+LQZJN9R857H",
      "include_colab_link": true
    },
    "kernelspec": {
      "name": "python3",
      "display_name": "Python 3"
    },
    "language_info": {
      "name": "python"
    }
  },
  "cells": [
    {
      "cell_type": "markdown",
      "metadata": {
        "id": "view-in-github",
        "colab_type": "text"
      },
      "source": [
        "<a href=\"https://colab.research.google.com/github/KoreTane/Analise-GLP/blob/main/API_Petrobras.ipynb\" target=\"_parent\"><img src=\"https://colab.research.google.com/assets/colab-badge.svg\" alt=\"Open In Colab\"/></a>"
      ]
    },
    {
      "cell_type": "code",
      "execution_count": 1,
      "metadata": {
        "colab": {
          "base_uri": "https://localhost:8080/"
        },
        "id": "wb1I5NO-u5J4",
        "outputId": "5511b1d7-0f94-4482-f4f8-7d914bcd10a3"
      },
      "outputs": [
        {
          "output_type": "stream",
          "name": "stdout",
          "text": [
            "Collecting pyngrok\n",
            "  Downloading pyngrok-7.2.0-py3-none-any.whl.metadata (7.4 kB)\n",
            "Requirement already satisfied: PyYAML>=5.1 in /usr/local/lib/python3.10/dist-packages (from pyngrok) (6.0.2)\n",
            "Downloading pyngrok-7.2.0-py3-none-any.whl (22 kB)\n",
            "Installing collected packages: pyngrok\n",
            "Successfully installed pyngrok-7.2.0\n"
          ]
        }
      ],
      "source": [
        "#!pip install Flask requests beautifulsoup4\n",
        "#!pip install pyngrok"
      ]
    },
    {
      "cell_type": "code",
      "source": [
        "# Instalação das bibliotecas necessárias\n",
        "!pip install Flask requests beautifulsoup4 pyngrok\n",
        "\n",
        "from flask import Flask, jsonify\n",
        "import requests\n",
        "from bs4 import BeautifulSoup\n",
        "from threading import Thread\n",
        "from pyngrok import ngrok\n",
        "\n",
        "app = Flask(__name__)\n",
        "\n",
        "def extrair_dados():\n",
        "    url = \"https://precos.petrobras.com.br/web/precos-dos-combustiveis/w/glp/\"\n",
        "    response = requests.get(url)\n",
        "    soup = BeautifulSoup(response.content, 'html.parser')\n",
        "\n",
        "    # Ajuste a lógica de extração conforme a estrutura do HTML.\n",
        "    dados = {}\n",
        "    estados = [\"SP\", \"RJ\", \"MG\"]  # Adicione todos os estados que deseja\n",
        "    for estado in estados:\n",
        "        # Lógica de extração para cada estado\n",
        "        dados[estado] = {\n",
        "            \"Distribuição e Revenda\": \"valor_exemplo\",\n",
        "            \"ICMS\": \"valor_exemplo\",\n",
        "            \"Impostos Federais\": \"valor_exemplo\",\n",
        "            \"Parcela Petrobras\": \"valor_exemplo\"\n",
        "        }\n",
        "\n",
        "    return dados\n",
        "\n",
        "@app.route('/api/precos', methods=['GET'])\n",
        "def get_precos():\n",
        "    dados = extrair_dados()\n",
        "    return jsonify(dados)\n",
        "\n",
        "def run_app():\n",
        "    app.run(host='0.0.0.0', port=5000)\n",
        "\n",
        "# Inicia o servidor Flask em uma nova thread\n",
        "thread = Thread(target=run_app)\n",
        "thread.start()\n",
        "\n",
        "!ngrok authtoken 2lf1owGW7ntHguDwHjKN3yJPcGj_t3ZbHZGKH6ieJN5witA\n",
        "public_url = ngrok.connect(5000)\n",
        "print(f\"Acesse a API em: {public_url}/api/precos\")"
      ],
      "metadata": {
        "colab": {
          "base_uri": "https://localhost:8080/"
        },
        "id": "5EApnayywhNf",
        "outputId": "221045f1-95c1-41b4-c53d-dedaa40651c3"
      },
      "execution_count": 7,
      "outputs": [
        {
          "output_type": "stream",
          "name": "stdout",
          "text": [
            "Requirement already satisfied: Flask in /usr/local/lib/python3.10/dist-packages (2.2.5)\n",
            "Requirement already satisfied: requests in /usr/local/lib/python3.10/dist-packages (2.32.3)\n",
            "Requirement already satisfied: beautifulsoup4 in /usr/local/lib/python3.10/dist-packages (4.12.3)\n",
            "Requirement already satisfied: pyngrok in /usr/local/lib/python3.10/dist-packages (7.2.0)\n",
            "Requirement already satisfied: Werkzeug>=2.2.2 in /usr/local/lib/python3.10/dist-packages (from Flask) (3.0.4)\n",
            "Requirement already satisfied: Jinja2>=3.0 in /usr/local/lib/python3.10/dist-packages (from Flask) (3.1.4)\n",
            "Requirement already satisfied: itsdangerous>=2.0 in /usr/local/lib/python3.10/dist-packages (from Flask) (2.2.0)\n",
            "Requirement already satisfied: click>=8.0 in /usr/local/lib/python3.10/dist-packages (from Flask) (8.1.7)\n",
            "Requirement already satisfied: charset-normalizer<4,>=2 in /usr/local/lib/python3.10/dist-packages (from requests) (3.4.0)\n",
            "Requirement already satisfied: idna<4,>=2.5 in /usr/local/lib/python3.10/dist-packages (from requests) (3.10)\n",
            "Requirement already satisfied: urllib3<3,>=1.21.1 in /usr/local/lib/python3.10/dist-packages (from requests) (2.2.3)\n",
            "Requirement already satisfied: certifi>=2017.4.17 in /usr/local/lib/python3.10/dist-packages (from requests) (2024.8.30)\n",
            "Requirement already satisfied: soupsieve>1.2 in /usr/local/lib/python3.10/dist-packages (from beautifulsoup4) (2.6)\n",
            "Requirement already satisfied: PyYAML>=5.1 in /usr/local/lib/python3.10/dist-packages (from pyngrok) (6.0.2)\n",
            "Requirement already satisfied: MarkupSafe>=2.0 in /usr/local/lib/python3.10/dist-packages (from Jinja2>=3.0->Flask) (3.0.1)\n",
            " * Serving Flask app '__main__'\n",
            " * Debug mode: off\n"
          ]
        },
        {
          "output_type": "stream",
          "name": "stderr",
          "text": [
            "Address already in use\n",
            "Port 5000 is in use by another program. Either identify and stop that program, or start the server with a different port.\n"
          ]
        },
        {
          "output_type": "stream",
          "name": "stdout",
          "text": [
            "Authtoken saved to configuration file: /root/.config/ngrok/ngrok.yml\n",
            "Acesse a API em: NgrokTunnel: \"https://3c8d-34-138-109-162.ngrok-free.app\" -> \"http://localhost:5000\"/api/precos\n"
          ]
        }
      ]
    },
    {
      "cell_type": "code",
      "source": [
        "python app.py"
      ],
      "metadata": {
        "id": "FMbVQT0xvjh-"
      },
      "execution_count": null,
      "outputs": []
    }
  ]
}