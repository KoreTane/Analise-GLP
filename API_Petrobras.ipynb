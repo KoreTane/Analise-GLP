{
  "nbformat": 4,
  "nbformat_minor": 0,
  "metadata": {
    "colab": {
      "provenance": [],
      "authorship_tag": "ABX9TyO73Uer8wMIm0QTQFbZRt+D",
      "include_colab_link": true
    },
    "kernelspec": {
      "name": "python3",
      "display_name": "Python 3"
    },
    "language_info": {
      "name": "python"
    }
  },
  "cells": [
    {
      "cell_type": "markdown",
      "metadata": {
        "id": "view-in-github",
        "colab_type": "text"
      },
      "source": [
        "<a href=\"https://colab.research.google.com/github/KoreTane/Analise-GLP/blob/main/API_Petrobras.ipynb\" target=\"_parent\"><img src=\"https://colab.research.google.com/assets/colab-badge.svg\" alt=\"Open In Colab\"/></a>"
      ]
    },
    {
      "cell_type": "code",
      "source": [
        "!pip install Flask requests beautifulsoup4 pyngrok\n",
        "\n",
        "from flask import Flask, jsonify\n",
        "import requests\n",
        "from bs4 import BeautifulSoup\n",
        "from threading import Thread\n",
        "from pyngrok import ngrok\n",
        "\n",
        "app = Flask(__name__)\n",
        "\n",
        "def extrair_dados():\n",
        "    url = \"https://precos.petrobras.com.br/seleção-de-estados-glp\"\n",
        "    response = requests.get(url)\n",
        "    soup = BeautifulSoup(response.content, 'html.parser')\n",
        "\n",
        "\n",
        "    dados = {}\n",
        "    estados = [\"SP\", \"RJ\", \"MG\"]\n",
        "    for estado in estados:\n",
        "\n",
        "        dados[estado] = {\n",
        "            \"Distribuição e Revenda\": \"valor_exemplo\",\n",
        "            \"ICMS\": \"valor_exemplo\",\n",
        "            \"Impostos Federais\": \"valor_exemplo\",\n",
        "            \"Parcela Petrobras\": \"valor_exemplo\"\n",
        "        }\n",
        "\n",
        "    return dados\n",
        "\n",
        "@app.route('/api/precos', methods=['GET'])\n",
        "def get_precos():\n",
        "    dados = extrair_dados()\n",
        "    return jsonify(dados)\n",
        "\n",
        "def run_app():\n",
        "    app.run(host='0.0.0.0', port=5000)\n",
        "\n",
        "# Inicia o servidor Flask em uma nova thread\n",
        "thread = Thread(target=run_app)\n",
        "thread.start()\n",
        "\n",
        "!ngrok authtoken 2lf1owGW7ntHguDwHjKN3yJPcGj_5Ut3ZbHZGKH6ieJN5witA\n",
        "public_url = ngrok.connect(5000)\n",
        "print(f\"Acesse a API em: {public_url}/api/precos\")"
      ],
      "metadata": {
        "colab": {
          "base_uri": "https://localhost:8080/"
        },
        "id": "5EApnayywhNf",
        "outputId": "f0e9af8f-e4e8-4b14-cb7c-2e25d69272e1"
      },
      "execution_count": null,
      "outputs": [
        {
          "output_type": "stream",
          "name": "stdout",
          "text": [
            "Requirement already satisfied: Flask in /usr/local/lib/python3.10/dist-packages (2.2.5)\n",
            "Requirement already satisfied: requests in /usr/local/lib/python3.10/dist-packages (2.32.3)\n",
            "Requirement already satisfied: beautifulsoup4 in /usr/local/lib/python3.10/dist-packages (4.12.3)\n",
            "Collecting pyngrok\n",
            "  Downloading pyngrok-7.2.0-py3-none-any.whl.metadata (7.4 kB)\n",
            "Requirement already satisfied: Werkzeug>=2.2.2 in /usr/local/lib/python3.10/dist-packages (from Flask) (3.0.4)\n",
            "Requirement already satisfied: Jinja2>=3.0 in /usr/local/lib/python3.10/dist-packages (from Flask) (3.1.4)\n",
            "Requirement already satisfied: itsdangerous>=2.0 in /usr/local/lib/python3.10/dist-packages (from Flask) (2.2.0)\n",
            "Requirement already satisfied: click>=8.0 in /usr/local/lib/python3.10/dist-packages (from Flask) (8.1.7)\n",
            "Requirement already satisfied: charset-normalizer<4,>=2 in /usr/local/lib/python3.10/dist-packages (from requests) (3.4.0)\n",
            "Requirement already satisfied: idna<4,>=2.5 in /usr/local/lib/python3.10/dist-packages (from requests) (3.10)\n",
            "Requirement already satisfied: urllib3<3,>=1.21.1 in /usr/local/lib/python3.10/dist-packages (from requests) (2.2.3)\n",
            "Requirement already satisfied: certifi>=2017.4.17 in /usr/local/lib/python3.10/dist-packages (from requests) (2024.8.30)\n",
            "Requirement already satisfied: soupsieve>1.2 in /usr/local/lib/python3.10/dist-packages (from beautifulsoup4) (2.6)\n",
            "Requirement already satisfied: PyYAML>=5.1 in /usr/local/lib/python3.10/dist-packages (from pyngrok) (6.0.2)\n",
            "Requirement already satisfied: MarkupSafe>=2.0 in /usr/local/lib/python3.10/dist-packages (from Jinja2>=3.0->Flask) (3.0.2)\n",
            "Downloading pyngrok-7.2.0-py3-none-any.whl (22 kB)\n",
            "Installing collected packages: pyngrok\n",
            "Successfully installed pyngrok-7.2.0\n"
          ]
        }
      ]
    }
  ]
}