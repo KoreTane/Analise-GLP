{
  "nbformat": 4,
  "nbformat_minor": 0,
  "metadata": {
    "colab": {
      "provenance": [],
      "authorship_tag": "ABX9TyOLPMWZ3bYDkikzhvcen/Lu",
      "include_colab_link": true
    },
    "kernelspec": {
      "name": "python3",
      "display_name": "Python 3"
    },
    "language_info": {
      "name": "python"
    }
  },
  "cells": [
    {
      "cell_type": "markdown",
      "metadata": {
        "id": "view-in-github",
        "colab_type": "text"
      },
      "source": [
        "<a href=\"https://colab.research.google.com/github/KoreTane/Analise-GLP/blob/main/AnalyserPowerBI.ipynb\" target=\"_parent\"><img src=\"https://colab.research.google.com/assets/colab-badge.svg\" alt=\"Open In Colab\"/></a>"
      ]
    },
    {
      "cell_type": "code",
      "source": [
        "!pip install xlsxwriter"
      ],
      "metadata": {
        "colab": {
          "base_uri": "https://localhost:8080/"
        },
        "id": "6G2HAF9OatFU",
        "outputId": "aa0cf57a-65f5-4ed5-c1a3-b9a350b63405"
      },
      "execution_count": 5,
      "outputs": [
        {
          "output_type": "stream",
          "name": "stdout",
          "text": [
            "Collecting xlsxwriter\n",
            "  Downloading XlsxWriter-3.2.0-py3-none-any.whl.metadata (2.6 kB)\n",
            "Downloading XlsxWriter-3.2.0-py3-none-any.whl (159 kB)\n",
            "\u001b[?25l   \u001b[90m━━━━━━━━━━━━━━━━━━━━━━━━━━━━━━━━━━━━━━━━\u001b[0m \u001b[32m0.0/159.9 kB\u001b[0m \u001b[31m?\u001b[0m eta \u001b[36m-:--:--\u001b[0m\r\u001b[2K   \u001b[91m━━━━━━━━━━━━━━━━━━━━━━━━━━━━━━━━━━━━━━\u001b[0m\u001b[90m╺\u001b[0m\u001b[90m━\u001b[0m \u001b[32m153.6/159.9 kB\u001b[0m \u001b[31m4.8 MB/s\u001b[0m eta \u001b[36m0:00:01\u001b[0m\r\u001b[2K   \u001b[90m━━━━━━━━━━━━━━━━━━━━━━━━━━━━━━━━━━━━━━━━\u001b[0m \u001b[32m159.9/159.9 kB\u001b[0m \u001b[31m3.3 MB/s\u001b[0m eta \u001b[36m0:00:00\u001b[0m\n",
            "\u001b[?25hInstalling collected packages: xlsxwriter\n",
            "Successfully installed xlsxwriter-3.2.0\n"
          ]
        }
      ]
    },
    {
      "cell_type": "code",
      "source": [
        "import pandas as pd\n",
        "import json\n",
        "\n",
        "### Carregar o arquivo JSON\n",
        "with open('PowerBIPerformanceDataANTES.json', 'r', encoding='utf-8-sig') as file:\n",
        "    dados_json = json.load(file)\n",
        "\n",
        "# Converter os dados em um DataFrame\n",
        "df = pd.DataFrame(dados_json)\n",
        "\n",
        "# Normalizar a coluna 'events'\n",
        "events_df = pd.json_normalize(df['events'])\n",
        "df_final = pd.concat([df.drop(columns=['events']), events_df], axis=1)\n",
        "\n",
        "# Imprimir os nomes das colunas para verificar\n",
        "print(\"Nomes das colunas:\", df_final.columns.tolist())\n",
        "\n",
        "# Selecionar as colunas desejadas (ajustando para os nomes corretos)\n",
        "colunas_desejadas = ['version', 'name', 'component', 'metrics.sourceLabel',\n",
        "                     'metrics.visualType', 'start', 'end']\n",
        "\n",
        "# Verificar se todas as colunas desejadas estão presentes\n",
        "for coluna in colunas_desejadas:\n",
        "    if coluna not in df_final.columns:\n",
        "        print(f\"A coluna '{coluna}' não está presente no DataFrame.\")\n",
        "\n",
        "# Tentar selecionar as colunas desejadas\n",
        "df_selected = df_final.loc[:, colunas_desejadas]\n",
        "\n",
        "# Converter colunas de data (removendo timezone)\n",
        "df_selected['start'] = pd.to_datetime(df_selected['start'], errors='coerce').dt.tz_localize(None)\n",
        "df_selected['end'] = pd.to_datetime(df_selected['end'], errors='coerce').dt.tz_localize(None)\n",
        "\n",
        "# Preencher valores nulos (opcional)\n",
        "df_selected.fillna('Não Especificado', inplace=True)\n",
        "\n",
        "# Renomear colunas para melhor legibilidade\n",
        "df_selected.columns = ['Versão', 'Nome', 'Componente', 'Fonte de Métricas',\n",
        "                       'Tipo Visual', 'Início', 'Fim']\n",
        "\n",
        "# Exportar para um arquivo Excel\n",
        "output_file = 'PowerBIPerformanceData.xlsx'\n",
        "with pd.ExcelWriter(output_file, engine='xlsxwriter') as writer:\n",
        "    df_selected.to_excel(writer, index=False, sheet_name='Dados')\n",
        "\n",
        "    # Acessar o workbook e a worksheet\n",
        "    workbook  = writer.book\n",
        "    worksheet = writer.sheets['Dados']\n",
        "\n",
        "    # Definir formato de cabeçalho\n",
        "    header_format = workbook.add_format({\n",
        "        'bold': True,\n",
        "        'font_color': 'white',\n",
        "        'bg_color': '#4F81BD',\n",
        "        'border': 1,\n",
        "        'align': 'center',\n",
        "        'valign': 'vcenter'\n",
        "    })\n",
        "\n",
        "    # Aplicar o formato ao cabeçalho\n",
        "    for col_num, value in enumerate(df_selected.columns.values):\n",
        "        worksheet.write(0, col_num, value, header_format)\n",
        "\n",
        "    # Ajustar largura das colunas\n",
        "    for i in range(len(df_selected.columns)):\n",
        "        worksheet.set_column(i, i, 20)  # Ajusta a largura para 20 unidades\n",
        "\n",
        "print(f\"Arquivo exportado com sucesso: {output_file}\")"
      ],
      "metadata": {
        "colab": {
          "base_uri": "https://localhost:8080/"
        },
        "id": "P5cugA05WXLV",
        "outputId": "a2fcf351-50f4-4856-980e-b683b56752c3"
      },
      "execution_count": 7,
      "outputs": [
        {
          "output_type": "stream",
          "name": "stdout",
          "text": [
            "Nomes das colunas: ['version', 'sessionId', 'name', 'component', 'start', 'id', 'metrics.sourceLabel', 'end', 'metrics.status', 'metrics.visualTitle', 'metrics.visualId', 'metrics.visualType', 'parentId', 'metrics.QueryText', 'metrics.RowCount', 'metrics.initialLoad']\n"
          ]
        },
        {
          "output_type": "stream",
          "name": "stderr",
          "text": [
            "<ipython-input-7-f7fdf7463101>:35: FutureWarning: Setting an item of incompatible dtype is deprecated and will raise an error in a future version of pandas. Value 'Não Especificado' has dtype incompatible with datetime64[ns], please explicitly cast to a compatible dtype first.\n",
            "  df_selected.fillna('Não Especificado', inplace=True)\n"
          ]
        },
        {
          "output_type": "stream",
          "name": "stdout",
          "text": [
            "Arquivo exportado com sucesso: PowerBIPerformanceData.xlsx\n"
          ]
        }
      ]
    },
    {
      "cell_type": "code",
      "source": [],
      "metadata": {
        "id": "Dvoqoplqacuj"
      },
      "execution_count": null,
      "outputs": []
    }
  ]
}